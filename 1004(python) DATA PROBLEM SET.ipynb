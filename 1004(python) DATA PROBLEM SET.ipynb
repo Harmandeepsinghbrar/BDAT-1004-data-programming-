{
 "cells": [
  {
   "cell_type": "markdown",
   "metadata": {},
   "source": [
    " Assignment OF Data programing (BDAT 1004)\n",
    "\n",
    "NAME : HARMANDEEP SINGH\n",
    "STUDENT ID : 200558475\n",
    "EMAIL : 200558475@student.georgianc.on.ca\n",
    "\n",
    "             Harmanbrar34@gmail.com\n",
    "\n",
    "Assignment of data programing : PROBLEM SET SUBMISSON\n"
   ]
  },
  {
   "cell_type": "markdown",
   "metadata": {
    "id": "R5UFSef23W-t"
   },
   "source": [
    "## **Question 1**\n",
    "# C# What data type is each of the following?\n",
    "5\n",
    "\n",
    "5.0\n",
    "\n",
    "5 > 1\n",
    "\n",
    "'5'\n",
    "\n",
    "5 * 2\n",
    "\n",
    "'5' * 2\n",
    "\n",
    "'5' + '2'\n",
    "\n",
    "5 / 2\n",
    "\n",
    "5 % 2\n",
    "\n",
    "{5, 2, 1}\n",
    "\n",
    "5 == 3\n",
    "\n",
    "Pi (the number)\n",
    "\n"
   ]
  },
  {
   "cell_type": "code",
   "execution_count": null,
   "metadata": {
    "id": "vubVN9wA36mo"
   },
   "outputs": [],
   "source": [
    "using System;\n",
    "\n",
    "class program2\n",
    "{\n",
    "   static void Main()\n",
    "   {\n",
    "       CheckDataType(5);\n",
    "       CheckDataType(5.0);\n",
    "       CheckDataType(5 > 1);\n",
    "       CheckDataType('5');\n",
    "       CheckDataType(5 * 2);\n",
    "       CheckDataType('5' * 2);\n",
    "       CheckDataType('5' + '2');\n",
    "       CheckDataType(5 / 2);\n",
    "       CheckDataType(5 % 2);\n",
    "       CheckDataType(new int[] { 5, 2, 1 });\n",
    "       CheckDataType(5 == 3);\n",
    "       CheckDataType(Math.PI);\n",
    "   }\n",
    "\n",
    "   static void CheckDataType<T>(T value)\n",
    "   {\n",
    "       Console.WriteLine($\"Value: {value}, Data Type: {typeof(T)}\");\n",
    "   }\n",
    "}"
   ]
  },
  {
   "cell_type": "code",
   "execution_count": null,
   "metadata": {},
   "outputs": [],
   "source": [
    "OUTPUT :"
   ]
  },
  {
   "cell_type": "code",
   "execution_count": null,
   "metadata": {},
   "outputs": [],
   "source": [
    "Value: 5, Data Type: System.Int32\n",
    "Value: 5, Data Type: System.Double\n",
    "Value: True, Data Type: System.Boolean\n",
    "Value: 5, Data Type: System.Char\n",
    "Value: 10, Data Type: System.Int32\n",
    "Value: 106, Data Type: System.Int32\n",
    "Value: 103, Data Type: System.Int32\n",
    "Value: 2, Data Type: System.Int32\n",
    "Value: 1, Data Type: System.Int32\n",
    "Value: System.Int32[], Data Type: System.Int32[]\n",
    "Value: False, Data Type: System.Boolean\n",
    "Value: 3.141592653589793, Data Type: System.Double"
   ]
  },
  {
   "cell_type": "markdown",
   "metadata": {
    "id": "ann1yQFv3_el"
   },
   "source": [
    "##**Question 2**\n",
    "##Write (and evaluate) C# file that answer these questions:\n",
    "a. How many letters are there in 'Supercalifragilisticexpialidocious'?\n",
    "\n",
    "b. Does 'Supercalifragilisticexpialidocious' contain 'ice' as a substring?\n",
    "\n",
    "c. Which of the following words is the longest:\n",
    "Supercalifragilisticexpialidocious, Honorificabilitudinitatibus, or\n",
    "Bababadalgharaghtakamminarronnkonn?\n",
    "\n",
    "d. Which composer comes first in the dictionary: 'Berlioz', 'Borodin', 'Brian',\n",
    "'Bartok', 'Bellini', 'Buxtehude', 'Bernstein'. Which one comes last?\n"
   ]
  },
  {
   "cell_type": "code",
   "execution_count": null,
   "metadata": {
    "id": "_tcnW-oH4Q0s"
   },
   "outputs": [],
   "source": [
    "using System;\n",
    "\n",
    "public class program3\n",
    "\n",
    "{\n",
    "   public static void Main(string[] args)\n",
    "   {\n",
    "       // Question a\n",
    "       string word = \"Supercalifragilisticexpialidocious\";\n",
    "       int letterCount = word.Length;\n",
    "       Console.WriteLine(\"Number of letters in 'Supercalifragilisticexpialidocious': \" + letterCount);\n",
    "\n",
    "       // Question b\n",
    "       bool containsSubstring = word.Contains(\"ice\");\n",
    "       Console.WriteLine(\"Does 'Supercalifragilisticexpialidocious' contain 'ice' as a substring? \" + containsSubstring);\n",
    "\n",
    "       // Question c\n",
    "       string[] words = { \"Supercalifragilisticexpialidocious\", \"Honorificabilitudinitatibus\", \"Bababadalgharaghtakamminarronnkonn\" };\n",
    "       string longestWord = GetLongestWord(words);\n",
    "       Console.WriteLine(\"The longest word among the given options is: \" + longestWord);\n",
    "\n",
    "       // Question d\n",
    "       string[] composers = { \"Berlioz\", \"Borodin\", \"Brian\", \"Bartok\", \"Bellini\", \"Buxtehude\", \"Bernstein\" };\n",
    "       string firstComposer = composers[0];\n",
    "       string lastComposer = composers[composers.Length - 1];\n",
    "       Console.WriteLine(\"The first composer in the dictionary is: \" + firstComposer);\n",
    "       Console.WriteLine(\"The last composer in the dictionary is: \" + lastComposer);\n",
    "   }\n",
    "\n",
    "   public static string GetLongestWord(string[] words)\n",
    "   {\n",
    "       string longestWord = \"\";\n",
    "       foreach (string word in words)\n",
    "       {\n",
    "           if (word.Length > longestWord.Length)\n",
    "           {\n",
    "               longestWord = word;\n",
    "           }\n",
    "       }\n",
    "       return longestWord;\n",
    "   }\n",
    "}\n"
   ]
  },
  {
   "cell_type": "code",
   "execution_count": null,
   "metadata": {},
   "outputs": [],
   "source": [
    "OUTPUT:"
   ]
  },
  {
   "cell_type": "code",
   "execution_count": null,
   "metadata": {},
   "outputs": [],
   "source": [
    " Number of letters in 'Supercalifragilisticexpialidocious': 34\n",
    "Does 'Supercalifragilisticexpialidocious' contain 'ice' as a substring? True\n",
    "The longest word among the given options is: Supercalifragilisticexpialidocious\n",
    "The first composer in the dictionary is: Berlioz\n",
    "The last composer in the dictionary is: Bernstein"
   ]
  },
  {
   "cell_type": "markdown",
   "metadata": {
    "id": "-51jA-lu4VZy"
   },
   "source": [
    "##**Question 3**\n",
    "##Implement function triangleArea(a,b,c) that takes as input the lengths of the 3 sides of a triangle and returns the area of the triangle. By Heron's formula, the area of a triangle with side lengths a, b, and c is s(s − a)(s −b)(s −c), where s = (a + b + c)/2."
   ]
  },
  {
   "cell_type": "code",
   "execution_count": null,
   "metadata": {
    "id": "BmXjY6Et4bRz"
   },
   "outputs": [],
   "source": [
    "using System;\n",
    "\n",
    "public class TriangleArea\n",
    "{\n",
    "   public static void Main(string[] args)\n",
    "   {\n",
    "       double a = 2;\n",
    "       double b = 2;\n",
    "       double c = 2;\n",
    "\n",
    "       double area = triangleArea(a, b, c);\n",
    "       Console.WriteLine(\"Area of the triangle: \" + area);\n",
    "   }\n",
    "\n",
    "   public static double triangleArea(double a, double b, double c)\n",
    "   {\n",
    "       double s = (a + b + c) / 2;\n",
    "       double area = Math.Sqrt(s * (s - a) * (s - b) * (s - c));\n",
    "       return area;\n",
    "   }\n",
    "}\n"
   ]
  },
  {
   "cell_type": "code",
   "execution_count": null,
   "metadata": {},
   "outputs": [],
   "source": [
    "OUTPUT:"
   ]
  },
  {
   "cell_type": "code",
   "execution_count": null,
   "metadata": {},
   "outputs": [],
   "source": [
    "Area of the triangle: 1.7320508075688772"
   ]
  },
  {
   "cell_type": "markdown",
   "metadata": {
    "id": "lRXB4CME4ei_"
   },
   "source": [
    "## **Question 4**\n",
    "## Write a program in C# Sharp to separate odd and even integers in separate arrays.\n",
    "Go to the editor\n",
    "\n",
    "Test Data :\n",
    "\n",
    "Input the number of elements to be stored in the array :5\n",
    "\n",
    "Input 5 elements in the array :\n",
    "\n",
    "element - 0 : 25\n",
    "\n",
    "element - 1 : 47\n",
    "\n",
    "element - 2 : 42\n",
    "\n",
    "element - 3 : 56\n",
    "\n",
    "element - 4 : 32\n",
    "\n",
    "Expected Output:\n",
    "\n",
    "The Even elements are:\n",
    "\n",
    "42 56 32\n",
    "\n",
    "The Odd elements are :\n",
    "\n",
    "25 47\n"
   ]
  },
  {
   "cell_type": "code",
   "execution_count": null,
   "metadata": {
    "id": "VcnzVYTR4eRu"
   },
   "outputs": [],
   "source": [
    "using System;\n",
    "\n",
    "public class program4\n",
    "{\n",
    "   public static void Main(string[] args)\n",
    "   {\n",
    "       Console.Write(\"Input the number of elements to be stored in the array: \");\n",
    "       int size = Convert.ToInt32(Console.ReadLine());\n",
    "\n",
    "       int[] array = new int[size];\n",
    "       int[] evenArray;\n",
    "       int[] oddArray;\n",
    "\n",
    "       Console.WriteLine(\"Input {0} elements in the array:\", size);\n",
    "       for (int i = 0; i < size; i++)\n",
    "       {\n",
    "           Console.Write(\"Element - {0} : \", i);\n",
    "           array[i] = Convert.ToInt32(Console.ReadLine());\n",
    "       }\n",
    "\n",
    "       int evencount = 0;\n",
    "       int oddcount = 0;\n",
    "\n",
    "       // Count the number of even and odd elements\n",
    "       foreach (int num in array)\n",
    "       {\n",
    "           if (num % 2 == 0)\n",
    "               evencount++;\n",
    "           else\n",
    "               oddcount++;\n",
    "       }\n",
    "\n",
    "       // Initialize evenArray and oddArray with appropriate sizes\n",
    "       evenArray = new int[evencount];\n",
    "       oddArray = new int[oddcount];\n",
    "\n",
    "       int evenIndex = 0;\n",
    "       int oddIndex = 0;\n",
    "\n",
    "       // Separate even and odd elements into separate arrays\n",
    "       foreach (int num in array)\n",
    "       {\n",
    "           if (num % 2 == 0)\n",
    "               evenArray[evenIndex++] = num;\n",
    "           else\n",
    "               oddArray[oddIndex++] = num;\n",
    "       }\n",
    "\n",
    "       Console.WriteLine(\"\\nThe Even elements are:\");\n",
    "       foreach (int num in evenArray)\n",
    "       {\n",
    "           Console.Write(num + \" \");\n",
    "       }\n",
    "\n",
    "       Console.WriteLine(\"\\nThe Odd elements are:\");\n",
    "       foreach (int num in oddArray)\n",
    "       {\n",
    "           Console.Write(num + \" \");\n",
    "       }\n",
    "   }\n",
    "}"
   ]
  },
  {
   "cell_type": "code",
   "execution_count": null,
   "metadata": {},
   "outputs": [],
   "source": [
    "OUTPUT:"
   ]
  },
  {
   "cell_type": "code",
   "execution_count": null,
   "metadata": {},
   "outputs": [],
   "source": [
    "Input the number of elements to be stored in the array: 5\n",
    "Input 5 elements in the array:\n",
    "Element - 0 : 25\n",
    "Element - 1 : 47\n",
    "Element - 2 : 42\n",
    "Element - 3 : 56\n",
    "Element - 4 : 32\n",
    "\n",
    "The Even elements are:\n",
    "42 56 32\n",
    "The Odd elements are:\n",
    "25 47"
   ]
  },
  {
   "cell_type": "markdown",
   "metadata": {
    "id": "Lk_iAi484v2S"
   },
   "source": [
    "## **Question 5**\n",
    "a. Write a function inside(x,y,x1,y1,x2,y2) that returns True or False\n",
    "dependingonwhetherthepoint(x,y)lies in the rectangle with lower left\n",
    "corner (x1,y1) and upper right corner (x2,y2).\n",
    "\n",
    "inside(1,1,0,0,2,3)\n",
    "\n",
    "True\n",
    "\n",
    "inside(-1,-1,0,0,2,3)\n",
    "\n",
    "False\n",
    "\n",
    "b. Use function inside()from part a. to write an expression that tests whether the point (1,1) lies in both of the following rectangles: one with lower left corner (0.3, 0.5) and upper right corner (1.1, 0.7) and the other with lower left corner (0.5, 0.2) and upper right corner (1.1, 2).\n"
   ]
  },
  {
   "cell_type": "code",
   "execution_count": null,
   "metadata": {
    "id": "61jj6cT45HOY"
   },
   "outputs": [],
   "source": [
    "using System;\n",
    "\n",
    "public class rectangle\n",
    "{\n",
    "   public static void Main(string[] args)\n",
    "   {\n",
    "       bool Inside = inside(1, 1, 0, 0, 2, 3);\n",
    "       Console.WriteLine(\"Point is inside the rectangle: \" + Inside);\n",
    "\n",
    "       bool InsideBothRectangles = inside(1, 1, 0.3, 0.5, 1.1, 0.7) && inside(1, 1, 0.5, 0.2, 1.1, 2);\n",
    "       Console.WriteLine(\"Point is inside both rectangles: \" + InsideBothRectangles);\n",
    "   }\n",
    "\n",
    "   public static bool inside(double x, double y, double x1, double y1, double x2, double y2)\n",
    "   {\n",
    "       bool Inside = (x >= x1 && x <= x2) && (y >= y1 && y <= y2);\n",
    "       return Inside;\n",
    "   }\n",
    "}"
   ]
  },
  {
   "cell_type": "code",
   "execution_count": null,
   "metadata": {},
   "outputs": [],
   "source": [
    "OUTPUT:"
   ]
  },
  {
   "cell_type": "code",
   "execution_count": null,
   "metadata": {},
   "outputs": [],
   "source": [
    "Point is inside the rectangle: True\n",
    "Point is inside both rectangles: False"
   ]
  },
  {
   "cell_type": "markdown",
   "metadata": {
    "id": "-_a48Kh_brZS"
   },
   "source": [
    "### **Question 6**. A fucntion to convert it into pig-Latin"
   ]
  },
  {
   "cell_type": "code",
   "execution_count": 1,
   "metadata": {
    "id": "AxsJwsYobfk2"
   },
   "outputs": [],
   "source": [
    "def pig(word):\n",
    "    vowels = ['a', 'e', 'i', 'o', 'u']\n",
    "    word = word.lower()  # Convert the word to lowercase\n",
    "\n",
    "    if word[0] in vowels:  # If the word starts with a vowel\n",
    "        pig_word = word + 'way'\n",
    "    else:  # If the word starts with a consonant\n",
    "        pig_word = word[1:] + word[0] + 'ay'\n",
    "\n",
    "    return pig_word\n"
   ]
  },
  {
   "cell_type": "code",
   "execution_count": 2,
   "metadata": {
    "id": "FPfO7Uxnb5ZT"
   },
   "outputs": [
    {
     "name": "stdout",
     "output_type": "stream",
     "text": [
      "appyhay\n",
      "enterway\n",
      "uestionqay\n"
     ]
    }
   ],
   "source": [
    "print(pig('happy'))\n",
    "print(pig('Enter'))\n",
    "print(pig('Question'))"
   ]
  },
  {
   "cell_type": "markdown",
   "metadata": {
    "id": "R2S7fng0cbQ-"
   },
   "source": [
    "## **Question 7**\n",
    "File bloodtype1.txt records blood-types of patients (A, B, AB, O or OO) at a clinic.\n",
    "Write a function bldcount() that reads the file with name name and reports (i.e.,\n",
    "prints) how many patients there are in each bloodtype."
   ]
  },
  {
   "cell_type": "code",
   "execution_count": null,
   "metadata": {
    "id": "iqNOJRO-cJwA"
   },
   "outputs": [],
   "source": [
    "def bldcount(filename):\n",
    "    blood_types = {'A': 0, 'B': 0, 'AB': 0, 'O': 0, 'OO': 0}\n",
    "\n",
    "    with open(filename, 'r') as file:\n",
    "        data = file.read().split()\n",
    "\n",
    "        for blood_type in data:\n",
    "            if blood_type in blood_types:\n",
    "                blood_types[blood_type] += 1\n",
    "\n",
    "    for blood_type, count in blood_types.items():\n",
    "        print(f\"Number of patients with blood type {blood_type}: {count}\")\n",
    "\n",
    "\n",
    "# Usage\n",
    "bldcount('bloodtype.txt')\n"
   ]
  },
  {
   "cell_type": "markdown",
   "metadata": {
    "id": "IzQqkqIneV2i"
   },
   "source": [
    "## **Question 8**. Writing a function to calculate the currencies."
   ]
  },
  {
   "cell_type": "code",
   "execution_count": null,
   "metadata": {
    "id": "B9UVwFeLebKN"
   },
   "outputs": [],
   "source": [
    "def curconv(currency, amount):\n",
    "    with open('/content/currency.txt', 'r') as file:\n",
    "        lines = file.readlines()\n",
    "        for line in lines:\n",
    "            data = line.split()\n",
    "            if data[0] == currency:\n",
    "                rate = float(data[1])\n",
    "                usd_amount = amount * rate\n",
    "                return usd_amount\n",
    "        return 'Currency code not found'"
   ]
  },
  {
   "cell_type": "code",
   "execution_count": null,
   "metadata": {
    "colab": {
     "base_uri": "https://localhost:8080/"
    },
    "id": "_0gb5Ngvfu7s",
    "outputId": "9109291f-8dc0-405f-bc68-d310e22bb6cf"
   },
   "outputs": [
    {
     "name": "stdout",
     "output_type": "stream",
     "text": [
      "1.241401\n",
      "61.48272\n"
     ]
    }
   ],
   "source": [
    "# Example usage:\n",
    "print(curconv('JPY', 100))  # Output: 1.241401\n",
    "print(curconv('EUR', 50))  # Output: 61.48272"
   ]
  },
  {
   "cell_type": "markdown",
   "metadata": {
    "id": "HdXsxxwtf6PV"
   },
   "source": [
    "# **Question 9**. Each of the following will cause an exception an error. Identify what type of exception each will cause.\n",
    "1. Trying to add incompatible variables, as in\n",
    "adding 6 + ‘a’\n",
    "2. Referring to the 12th item of a list that has only 10\n",
    "items\n",
    "3. Using a value that is out ofrange for a function’s\n",
    "input, such as calling math.sqrt(-1.0)\n",
    "4. Using an undeclared variable, such as print(x)\n",
    "when x has not been defined\n",
    "5. Trying to open a file that does not exist, such as\n",
    "mistyping the file name or looking in the wrong\n",
    "directory\n"
   ]
  },
  {
   "cell_type": "code",
   "execution_count": null,
   "metadata": {
    "id": "_v9YLk81gn7q"
   },
   "outputs": [],
   "source": [
    "# Test code for 1. \n",
    "result = 6 + 'a'"
   ]
  },
  {
   "cell_type": "markdown",
   "metadata": {
    "id": "9-UghMJohGOD"
   },
   "source": [
    "This First one will a TypeError  with a message like: TypeError: unsupported operand type(s) for +: 'int' and 'str'"
   ]
  },
  {
   "cell_type": "code",
   "execution_count": null,
   "metadata": {
    "id": "rPJMb5gMhO8u"
   },
   "outputs": [],
   "source": [
    "# Test code for Second case \n",
    "my_list = [1, 2, 3, 4, 5, 6, 7, 8, 9, 10]\n",
    "item = my_list[12]"
   ]
  },
  {
   "cell_type": "markdown",
   "metadata": {
    "id": "lLnSAhWHhaAG"
   },
   "source": [
    "This will give a IndexError with a message like: IndexError: list index out of ran"
   ]
  },
  {
   "cell_type": "code",
   "execution_count": null,
   "metadata": {
    "id": "TkVmbw63heqz"
   },
   "outputs": [],
   "source": [
    "# test code for 3rd case\n",
    "import math\n",
    "\n",
    "result = math.sqrt(-1.0)"
   ]
  },
  {
   "cell_type": "markdown",
   "metadata": {
    "id": "UjuFeA6ohj1p"
   },
   "source": [
    "This will give a ValueError or math.DomainError with a message like: ValueError: math domain error or math.DomainError: math domain error, depending on the context."
   ]
  },
  {
   "cell_type": "code",
   "execution_count": null,
   "metadata": {
    "id": "2sdvBE8qhopg"
   },
   "outputs": [],
   "source": [
    "# Test code for 4th case\n",
    "file = open('nonexistent_file.txt', 'r')"
   ]
  },
  {
   "cell_type": "markdown",
   "metadata": {
    "id": "MuCYRLZFiNpC"
   },
   "source": [
    "This will give a FileNotFoundError with a message like: FileNotFoundError: [Errno 2] No such file or directory: 'nonexistent_file.txt'"
   ]
  },
  {
   "cell_type": "markdown",
   "metadata": {
    "id": "Hiwx7xveiVBe"
   },
   "source": [
    "## **Question 10**:- \n",
    "Encryption is the process of hiding the meaning of a text by substituting letters in the\n",
    "message with other letters, according to some system. If the process is successful, no\n",
    "one but the intended recipient can understand the encrypted message. Cryptanalysis\n",
    "refers to attempts to undo the encryption, even if some details of the encryption are\n",
    "unknown (for example, if an encrypted message has been intercepted). The first step\n",
    "of cryptanalysis is often to build up a table of letter frequencies in the encrypted text.\n",
    "Assume that the string letters is already defined as\n",
    "'abcdefghijklmnopqrstuvwxyz'. Write a function called frequencies()\n",
    "that takes a string as its only parameter, and returns a list of integers, showing the\n",
    "number of times each character appears in the text. Your function may ignore any\n",
    "characters that are not in letters."
   ]
  },
  {
   "cell_type": "code",
   "execution_count": null,
   "metadata": {
    "colab": {
     "base_uri": "https://localhost:8080/"
    },
    "id": "TV1whj_sig8W",
    "outputId": "cd437158-a9ef-41bd-b856-3e0f42d0e809"
   },
   "outputs": [
    {
     "data": {
      "text/plain": [
       "[1, 1, 1, 3, 5, 1, 1, 2, 1, 0, 1, 0, 1, 2, 4, 0, 1, 2, 0, 3, 1, 0, 1, 1, 0, 0]"
      ]
     },
     "execution_count": 15,
     "metadata": {},
     "output_type": "execute_result"
    }
   ],
   "source": [
    "def frequencies(text):\n",
    "    letters = 'abcdefghijklmnopqrstuvwxyz'\n",
    "    text = text.lower()  # Convert the text to lowercase\n",
    "    freq_list = [0] * len(letters)  # Initialize a list of frequencies with all zeros\n",
    "\n",
    "    for char in text:\n",
    "        if char in letters:\n",
    "            index = letters.index(char)  # Find the index of the character in the letters string\n",
    "            freq_list[index] += 1  # Increment the frequency count for that character\n",
    "\n",
    "    return freq_list\n",
    "\n",
    "# Testing the function \n",
    "frequencies('The quick red fox got bored and went home.')\n"
   ]
  },
  {
   "cell_type": "code",
   "execution_count": null,
   "metadata": {
    "id": "Bo171cVrjHuA"
   },
   "outputs": [],
   "source": []
  }
 ],
 "metadata": {
  "colab": {
   "provenance": []
  },
  "kernelspec": {
   "display_name": "Python 3 (ipykernel)",
   "language": "python",
   "name": "python3"
  },
  "language_info": {
   "codemirror_mode": {
    "name": "ipython",
    "version": 3
   },
   "file_extension": ".py",
   "mimetype": "text/x-python",
   "name": "python",
   "nbconvert_exporter": "python",
   "pygments_lexer": "ipython3",
   "version": "3.10.9"
  }
 },
 "nbformat": 4,
 "nbformat_minor": 4
}
